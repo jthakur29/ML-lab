{
  "nbformat": 4,
  "nbformat_minor": 0,
  "metadata": {
    "colab": {
      "name": "Copy of Classification algorithms on placement dataset1 .ipynb",
      "provenance": [],
      "include_colab_link": true
    },
    "kernelspec": {
      "name": "python3",
      "display_name": "Python 3"
    },
    "language_info": {
      "name": "python"
    }
  },
  "cells": [
    {
      "cell_type": "markdown",
      "metadata": {
        "id": "view-in-github",
        "colab_type": "text"
      },
      "source": [
        "<a href=\"https://colab.research.google.com/github/jthakur29/ML-lab/blob/main/Classification_algorithms_on_depression_dataset_.ipynb\" target=\"_parent\"><img src=\"https://colab.research.google.com/assets/colab-badge.svg\" alt=\"Open In Colab\"/></a>"
      ]
    },
    {
      "cell_type": "code",
      "metadata": {
        "id": "pP9Hcx1EKAV8"
      },
      "source": [
        "from sklearn import datasets, linear_model, metrics\n",
        "import csv \n",
        "import numpy as np \n",
        "import matplotlib.pyplot as plt \n",
        "import pandas as pd \n",
        "dataset = pd.read_csv('/content/drive/MyDrive/datasets.csv')  \n",
        "dataset=np.array(dataset) "
      ],
      "execution_count": 2,
      "outputs": []
    },
    {
      "cell_type": "code",
      "metadata": {
        "id": "lKbGfjp4LIDv",
        "colab": {
          "base_uri": "https://localhost:8080/"
        },
        "outputId": "b1979df5-64ea-4654-ace5-1074ba5a2569"
      },
      "source": [
        "from google.colab import drive\n",
        "drive.mount('/content/drive')"
      ],
      "execution_count": 10,
      "outputs": [
        {
          "output_type": "stream",
          "text": [
            "Drive already mounted at /content/drive; to attempt to forcibly remount, call drive.mount(\"/content/drive\", force_remount=True).\n"
          ],
          "name": "stdout"
        }
      ]
    },
    {
      "cell_type": "code",
      "metadata": {
        "id": "p_aU1By_KHBs"
      },
      "source": [
        "from sklearn import datasets\n",
        "dataset = datasets.load_iris()\n",
        "features=dataset.data\n",
        "label=dataset.target"
      ],
      "execution_count": 11,
      "outputs": []
    },
    {
      "cell_type": "code",
      "metadata": {
        "id": "BS1u6G6fnN8N"
      },
      "source": [
        "from sklearn.model_selection import train_test_split\n",
        "X_train,X_test,Y_train,Y_test=train_test_split(features,label,test_size=0.5)"
      ],
      "execution_count": 12,
      "outputs": []
    },
    {
      "cell_type": "code",
      "metadata": {
        "id": "fsF-jtSaKdSj",
        "colab": {
          "base_uri": "https://localhost:8080/"
        },
        "outputId": "43a65c73-94ca-4279-9938-2f042e08e43a"
      },
      "source": [
        "\n",
        "\n",
        "#LOGISTIC REGRESSION\n",
        "from sklearn.linear_model import LogisticRegression\n",
        "model=LogisticRegression()\n",
        "\n",
        "#K-NEAREST NEIGHBORS(KNN)\n",
        "#from sklearn.neighbors import KNeighborsClassifier\n",
        "#model=KNeighborsClassifier()\n",
        "\n",
        "#NAIVE BAYES\n",
        "#from sklearn.naive_bayes import GaussianNB\n",
        "#model=GaussianNB()\n",
        "\n",
        "model.fit(X_train,Y_train)\n",
        "y_ans=model.predict(X_test)\n",
        "\n",
        "model.score(X_test,Y_test)"
      ],
      "execution_count": 17,
      "outputs": [
        {
          "output_type": "execute_result",
          "data": {
            "text/plain": [
              "0.9866666666666667"
            ]
          },
          "metadata": {
            "tags": []
          },
          "execution_count": 17
        }
      ]
    },
    {
      "cell_type": "code",
      "metadata": {
        "colab": {
          "base_uri": "https://localhost:8080/"
        },
        "id": "IoGuSoX4LrkP",
        "outputId": "51c99fdf-195d-45b0-9e20-fa3a4b4460da"
      },
      "source": [
        "\n",
        "\n",
        "#LOGISTIC REGRESSION\n",
        "#from sklearn.linear_model import LogisticRegression\n",
        "#model=LogisticRegression()\n",
        "\n",
        "#K-NEAREST NEIGHBORS(KNN)\n",
        "from sklearn.neighbors import KNeighborsClassifier\n",
        "model=KNeighborsClassifier()\n",
        "\n",
        "#NAIVE BAYES\n",
        "#from sklearn.naive_bayes import GaussianNB\n",
        "#model=GaussianNB()\n",
        "\n",
        "model.fit(X_train,Y_train)\n",
        "y_ans=model.predict(X_test)\n",
        "\n",
        "model.score(X_test,Y_test)"
      ],
      "execution_count": 16,
      "outputs": [
        {
          "output_type": "execute_result",
          "data": {
            "text/plain": [
              "0.96"
            ]
          },
          "metadata": {
            "tags": []
          },
          "execution_count": 16
        }
      ]
    },
    {
      "cell_type": "code",
      "metadata": {
        "colab": {
          "base_uri": "https://localhost:8080/"
        },
        "id": "NKgzwCtBLzlX",
        "outputId": "bd88a3bc-ee05-49c1-c5d9-425ce6c1b620"
      },
      "source": [
        "\n",
        "\n",
        "#LOGISTIC REGRESSION\n",
        "#from sklearn.linear_model import LogisticRegression\n",
        "#model=LogisticRegression()\n",
        "\n",
        "#K-NEAREST NEIGHBORS(KNN)\n",
        "#from sklearn.neighbors import KNeighborsClassifier\n",
        "#model=KNeighborsClassifier()\n",
        "\n",
        "#NAIVE BAYES\n",
        "from sklearn.naive_bayes import GaussianNB\n",
        "model=GaussianNB()\n",
        "\n",
        "model.fit(X_train,Y_train)\n",
        "y_ans=model.predict(X_test)\n",
        "\n",
        "model.score(X_test,Y_test)"
      ],
      "execution_count": 19,
      "outputs": [
        {
          "output_type": "execute_result",
          "data": {
            "text/plain": [
              "0.9866666666666667"
            ]
          },
          "metadata": {
            "tags": []
          },
          "execution_count": 19
        }
      ]
    }
  ]
}